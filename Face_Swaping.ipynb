{
 "cells": [
  {
   "cell_type": "code",
   "execution_count": 57,
   "id": "female-smoke",
   "metadata": {},
   "outputs": [],
   "source": [
    "import cv2\n",
    "import numpy as np"
   ]
  },
  {
   "cell_type": "code",
   "execution_count": 58,
   "id": "southwest-origin",
   "metadata": {},
   "outputs": [],
   "source": [
    "def dispimage(title, image):\n",
    "    cv2.imshow(title, image)\n",
    "    cv2.waitKey()\n",
    "    cv2.destroyAllWindows()\n",
    "    \n",
    "def bounding_box(faces, image):\n",
    "    for (x,y,w,h) in faces:\n",
    "        cv2.rectangle(image, (x,y), (x+w,y+h), [0,255,0], 5)\n",
    "        \n",
    "def crop_image(faces, image):\n",
    "       return image[faces[0][1]:faces[0][1]+faces[0][2],faces[0][0]:faces[0][0]+ faces[0][3]]\n",
    "    \n",
    "        "
   ]
  },
  {
   "cell_type": "markdown",
   "id": "inner-jurisdiction",
   "metadata": {},
   "source": [
    "# Take 2 image crop some part of both image and swap it."
   ]
  },
  {
   "cell_type": "code",
   "execution_count": 59,
   "id": "social-large",
   "metadata": {},
   "outputs": [],
   "source": [
    "model = cv2.CascadeClassifier('haarcascade_frontalface_default.xml')\n",
    "photo_superman = cv2.imread(\"s.jpg\")\n",
    "photo_superman = cv2.resize(photo_superman, (480,480))\n",
    "face_superman = model.detectMultiScale(photo_superman)\n",
    "superman_cropped = crop_image(face_superman, photo_superman)\n",
    "dispimage(\" \", superman_cropped)"
   ]
  },
  {
   "cell_type": "code",
   "execution_count": 60,
   "id": "greatest-antenna",
   "metadata": {},
   "outputs": [],
   "source": [
    "model = cv2.CascadeClassifier('haarcascade_frontalface_default.xml')\n",
    "photo_joker = cv2.imread(\"j.jpg\")\n",
    "face_joker = model.detectMultiScale(photo_joker)\n",
    "joker_cropped = crop_image(face_joker, photo_joker)\n",
    "joker_cropped = cv2.resize(joker_cropped, (132, 132))\n",
    "dispimage(\" \", joker_cropped)"
   ]
  },
  {
   "cell_type": "code",
   "execution_count": 61,
   "id": "multiple-filling",
   "metadata": {},
   "outputs": [],
   "source": [
    "photo_superman[face_superman[0][1]:face_superman[0][1]+face_superman[0][2],face_superman[0][0]:face_superman[0][0]+ face_superman[0][3]] = joker_cropped\n",
    "dispimage(\" \", photo_superman)"
   ]
  },
  {
   "cell_type": "markdown",
   "id": "antique-wages",
   "metadata": {},
   "source": [
    "# Take 2 images and combine it to form single image"
   ]
  },
  {
   "cell_type": "code",
   "execution_count": 62,
   "id": "sweet-comparative",
   "metadata": {},
   "outputs": [],
   "source": [
    "photo_superman1 = cv2.imread(\"s.jpg\")\n",
    "photo_superman1 = cv2.resize(photo_superman1, (480,480))\n",
    "photo_joker = cv2.imread(\"j.jpg\")\n",
    "photo_joker = cv2.resize(photo_joker, (480,480))"
   ]
  },
  {
   "cell_type": "code",
   "execution_count": 63,
   "id": "outer-calcium",
   "metadata": {},
   "outputs": [],
   "source": [
    "combined = np.hstack((photo_superman1, photo_joker))\n",
    "dispimage(\" \", combined)"
   ]
  },
  {
   "cell_type": "markdown",
   "id": "white-above",
   "metadata": {},
   "source": [
    "# Creating a custom image using openCV"
   ]
  },
  {
   "cell_type": "code",
   "execution_count": 64,
   "id": "demanding-franklin",
   "metadata": {},
   "outputs": [],
   "source": [
    "photo = np.ones((500,600))\n",
    "face=cv2.circle(photo, (300,250), 90,[0,0,0],6)\n",
    "ear_right=cv2.circle(photo, (197,155), 45, [0,0,0],5)\n",
    "ear_left=cv2.circle(photo, (400,155), 45, [0,0,0],5)\n",
    "left_eye=cv2.circle(photo, (250,220), 8, [0,0,0],5)\n",
    "right_eye=cv2.circle(photo, (350,220), 8, [0,0,0],5)\n",
    "pts = [(280, 300), (300, 260), (320, 300)]\n",
    "nose= cv2.polylines(photo, np.array([pts]), True,[0,0,0] , 5)"
   ]
  },
  {
   "cell_type": "code",
   "execution_count": 65,
   "id": "orange-taxation",
   "metadata": {},
   "outputs": [],
   "source": [
    "dispimage(\" \", photo)"
   ]
  },
  {
   "cell_type": "code",
   "execution_count": null,
   "id": "sapphire-genre",
   "metadata": {},
   "outputs": [],
   "source": []
  }
 ],
 "metadata": {
  "kernelspec": {
   "display_name": "Python 3",
   "language": "python",
   "name": "python3"
  },
  "language_info": {
   "codemirror_mode": {
    "name": "ipython",
    "version": 3
   },
   "file_extension": ".py",
   "mimetype": "text/x-python",
   "name": "python",
   "nbconvert_exporter": "python",
   "pygments_lexer": "ipython3",
   "version": "3.7.6"
  }
 },
 "nbformat": 4,
 "nbformat_minor": 5
}
